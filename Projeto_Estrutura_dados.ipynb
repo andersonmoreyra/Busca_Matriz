{
 "cells": [
  {
   "cell_type": "code",
   "execution_count": 27,
   "metadata": {},
   "outputs": [],
   "source": [
    "matriz_original = [\n",
    "    [0, 0, 0, 0, 1],\n",
    "    [1, 0, 1, 1, 0],\n",
    "    [1, 0, 1, 1, 0],\n",
    "    [0, 1, 0, 0, 0],\n",
    "    [1, 1, 0, 1, 0],\n",
    "]\n",
    "\n",
    "matriz = [linha.copy() for linha in matriz_original]"
   ]
  },
  {
   "cell_type": "code",
   "execution_count": 28,
   "metadata": {},
   "outputs": [],
   "source": [
    "def comprimento(matriz):\n",
    "    \n",
    "   #lista para guardar quantidades de 1 em sequencia (vertical-horizontal)\n",
    "    lista_comprimentos = []\n",
    "    \n",
    "    #percorre a matriz por linhas\n",
    "    for linha in range (len(matriz)):\n",
    "        \n",
    "        #percorre a matriz por colunas\n",
    "        for coluna in range (len(matriz[0])):\n",
    "            \n",
    "            # Verifica se a posição atual da matriz é igual a 1\n",
    "            if matriz[linha][coluna] == 1 :\n",
    "                \n",
    "                #Adiciona 1 encontrado e chama função vizinhos(recursiva)\n",
    "                lista_comprimentos.append(vizinhos(matriz, linha, coluna))\n",
    "                \n",
    "    #retonar lista com comprimento dos rios\n",
    "    return lista_comprimentos\n",
    "\n",
    "def vizinhos(matriz, linha, coluna):   \n",
    "    \n",
    "    # Se linha/coluna menor que zero, e linha e coluna menores que a matriz, retorna-se 0\n",
    "    if any([linha<0, coluna<0, linha>=len(matriz), coluna>=len(matriz[0])]):\n",
    "        return 0\n",
    "    \n",
    "    # Se a posição atual igual a 0, retorna-se 0\n",
    "    if matriz[linha][coluna] == 0:\n",
    "        return 0\n",
    "    # contador pra somas a quantidade de 1 na horizontal e vertical.\n",
    "    contador = 1\n",
    "    \n",
    "    # Fornece o tamanho da vizinhaça a ser percorrida em linhas, quando um numero 1 é encontrado\n",
    "    for l in range(linha-1,linha+2):\n",
    "        \n",
    "        #Altera o valor no numero 1 encontrado pra 0\n",
    "        matriz[linha][coluna] = 0 \n",
    "        \n",
    "        # Fornece o tamanho da vizinhaça a ser percorrida em colunas, quando um numero 1 é encontrado\n",
    "        for c in range(coluna-1,coluna+2):\n",
    "           \n",
    "            if any([l == linha, c == coluna+2]):\n",
    "                contador += vizinhos(matriz, l, c)\n",
    "                #print(linha, coluna)\n",
    "\n",
    "            elif any([l == linha+2, c == coluna]):\n",
    "                contador += vizinhos(matriz, l, c)\n",
    "                #print(linha, coluna)\n",
    "    \n",
    "                    \n",
    "             \n",
    "    return contador\n"
   ]
  },
  {
   "cell_type": "code",
   "execution_count": 29,
   "metadata": {},
   "outputs": [
    {
     "name": "stdout",
     "output_type": "stream",
     "text": [
      "[[0, 0, 0, 0, 1], [1, 0, 1, 1, 0], [1, 0, 1, 1, 0], [0, 1, 0, 0, 0], [1, 1, 0, 1, 0]]\n"
     ]
    }
   ],
   "source": [
    "print(matriz)"
   ]
  },
  {
   "cell_type": "code",
   "execution_count": 30,
   "metadata": {},
   "outputs": [
    {
     "data": {
      "text/plain": [
       "[1, 2, 4, 3, 1]"
      ]
     },
     "execution_count": 30,
     "metadata": {},
     "output_type": "execute_result"
    }
   ],
   "source": [
    "comprimento(matriz)"
   ]
  },
  {
   "cell_type": "code",
   "execution_count": 26,
   "metadata": {},
   "outputs": [
    {
     "data": {
      "text/plain": [
       "[[0, 0, 1, 0, 1],\n",
       " [1, 0, 1, 0, 0],\n",
       " [1, 0, 1, 0, 1],\n",
       " [0, 1, 0, 1, 0],\n",
       " [1, 1, 0, 1, 0]]"
      ]
     },
     "execution_count": 26,
     "metadata": {},
     "output_type": "execute_result"
    }
   ],
   "source": [
    "matriz_original"
   ]
  },
  {
   "cell_type": "code",
   "execution_count": 19,
   "metadata": {},
   "outputs": [],
   "source": [
    "    \n",
    "\n"
   ]
  },
  {
   "cell_type": "code",
   "execution_count": null,
   "metadata": {},
   "outputs": [],
   "source": []
  },
  {
   "cell_type": "code",
   "execution_count": null,
   "metadata": {},
   "outputs": [],
   "source": []
  },
  {
   "cell_type": "code",
   "execution_count": null,
   "metadata": {},
   "outputs": [],
   "source": [
    "\n",
    "                    "
   ]
  }
 ],
 "metadata": {
  "kernelspec": {
   "display_name": "Python 3",
   "language": "python",
   "name": "python3"
  },
  "language_info": {
   "codemirror_mode": {
    "name": "ipython",
    "version": 3
   },
   "file_extension": ".py",
   "mimetype": "text/x-python",
   "name": "python",
   "nbconvert_exporter": "python",
   "pygments_lexer": "ipython3",
   "version": "3.7.6"
  }
 },
 "nbformat": 4,
 "nbformat_minor": 4
}
